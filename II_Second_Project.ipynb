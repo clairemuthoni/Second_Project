{
  "nbformat": 4,
  "nbformat_minor": 0,
  "metadata": {
    "colab": {
      "name": "II Second Project ",
      "provenance": [],
      "collapsed_sections": [],
      "toc_visible": true
    },
    "kernelspec": {
      "name": "python3",
      "display_name": "Python 3"
    }
  },
  "cells": [
    {
      "cell_type": "markdown",
      "metadata": {
        "id": "gyYi2y47vBPr"
      },
      "source": [
        "#     2014 2015 estimated Government Project finance allocations to National Government Ministries"
      ]
    },
    {
      "cell_type": "markdown",
      "metadata": {
        "id": "CL7ucWBUvIBT"
      },
      "source": [
        "In this project will will be using pandas to load and clean the data , however we will analyse using SQL. "
      ]
    },
    {
      "cell_type": "code",
      "metadata": {
        "id": "povrKP06vSL7"
      },
      "source": [
        "import pandas as pd\r\n",
        "import numpy as np "
      ],
      "execution_count": 1,
      "outputs": []
    },
    {
      "cell_type": "markdown",
      "metadata": {
        "id": "CXIVXZuWvZhU"
      },
      "source": [
        "##   Loading the data "
      ]
    },
    {
      "cell_type": "code",
      "metadata": {
        "id": "7kw3hrSVviLb"
      },
      "source": [
        "df = pd.read_csv('2014_2015_estimated_Government_Project_finance_allocations_to_National_Government_Ministries.csv')"
      ],
      "execution_count": null,
      "outputs": []
    },
    {
      "cell_type": "code",
      "metadata": {
        "colab": {
          "base_uri": "https://localhost:8080/",
          "height": 1000
        },
        "id": "NWY86YpXvt9L",
        "outputId": "d57ab401-e18c-4760-8f0d-5fffece577d6"
      },
      "source": [
        "df"
      ],
      "execution_count": null,
      "outputs": [
        {
          "output_type": "execute_result",
          "data": {
            "text/html": [
              "<div>\n",
              "<style scoped>\n",
              "    .dataframe tbody tr th:only-of-type {\n",
              "        vertical-align: middle;\n",
              "    }\n",
              "\n",
              "    .dataframe tbody tr th {\n",
              "        vertical-align: top;\n",
              "    }\n",
              "\n",
              "    .dataframe thead th {\n",
              "        text-align: right;\n",
              "    }\n",
              "</style>\n",
              "<table border=\"1\" class=\"dataframe\">\n",
              "  <thead>\n",
              "    <tr style=\"text-align: right;\">\n",
              "      <th></th>\n",
              "      <th>NG_Ministry</th>\n",
              "      <th>Total_-_GOK_Budget_Est_KES</th>\n",
              "      <th>Total_-_Loan_Budget_Est_KES</th>\n",
              "      <th>Total_-_Grant_Budget_Est_KES</th>\n",
              "      <th>Total_Budget_Supported__by_Donors_KES</th>\n",
              "      <th>Total_Project_Cost_KES</th>\n",
              "      <th>OBJECTID</th>\n",
              "    </tr>\n",
              "  </thead>\n",
              "  <tbody>\n",
              "    <tr>\n",
              "      <th>0</th>\n",
              "      <td>Ministry of Industialization and Enterprise D...</td>\n",
              "      <td>0</td>\n",
              "      <td>0</td>\n",
              "      <td>805264000</td>\n",
              "      <td>805264000</td>\n",
              "      <td>26358709656</td>\n",
              "      <td>0</td>\n",
              "    </tr>\n",
              "    <tr>\n",
              "      <th>1</th>\n",
              "      <td>Ministry of Defence</td>\n",
              "      <td>400000000</td>\n",
              "      <td>0</td>\n",
              "      <td>89000000</td>\n",
              "      <td>89000000</td>\n",
              "      <td>281000000</td>\n",
              "      <td>1</td>\n",
              "    </tr>\n",
              "    <tr>\n",
              "      <th>2</th>\n",
              "      <td>State Department of Transport</td>\n",
              "      <td>1362791218</td>\n",
              "      <td>98073634300</td>\n",
              "      <td>800000000</td>\n",
              "      <td>98873634300</td>\n",
              "      <td>794557000000</td>\n",
              "      <td>2</td>\n",
              "    </tr>\n",
              "    <tr>\n",
              "      <th>3</th>\n",
              "      <td>State Department of planning</td>\n",
              "      <td>16319402693</td>\n",
              "      <td>5454728000</td>\n",
              "      <td>3509140734</td>\n",
              "      <td>8963868734</td>\n",
              "      <td>123256000000</td>\n",
              "      <td>3</td>\n",
              "    </tr>\n",
              "    <tr>\n",
              "      <th>4</th>\n",
              "      <td>Ministry of Sports Culture and Arts</td>\n",
              "      <td>0</td>\n",
              "      <td>100000000</td>\n",
              "      <td>50000000</td>\n",
              "      <td>150000000</td>\n",
              "      <td>350000</td>\n",
              "      <td>4</td>\n",
              "    </tr>\n",
              "    <tr>\n",
              "      <th>5</th>\n",
              "      <td>State Department for Fisheries</td>\n",
              "      <td>0</td>\n",
              "      <td>0</td>\n",
              "      <td>0</td>\n",
              "      <td>0</td>\n",
              "      <td>700000000</td>\n",
              "      <td>5</td>\n",
              "    </tr>\n",
              "    <tr>\n",
              "      <th>6</th>\n",
              "      <td>The National Treasury</td>\n",
              "      <td>42000000</td>\n",
              "      <td>1938701220</td>\n",
              "      <td>2547877349</td>\n",
              "      <td>4486578569</td>\n",
              "      <td>333070000000</td>\n",
              "      <td>6</td>\n",
              "    </tr>\n",
              "    <tr>\n",
              "      <th>7</th>\n",
              "      <td>State Department for Environment  and Natural...</td>\n",
              "      <td>16375664605</td>\n",
              "      <td>28463176033</td>\n",
              "      <td>10262263852</td>\n",
              "      <td>38725439885</td>\n",
              "      <td>429092000000</td>\n",
              "      <td>7</td>\n",
              "    </tr>\n",
              "    <tr>\n",
              "      <th>8</th>\n",
              "      <td>State Department for Interior</td>\n",
              "      <td>25000000</td>\n",
              "      <td>0</td>\n",
              "      <td>252048100</td>\n",
              "      <td>252048100</td>\n",
              "      <td>1207405242</td>\n",
              "      <td>8</td>\n",
              "    </tr>\n",
              "    <tr>\n",
              "      <th>9</th>\n",
              "      <td>Ministry of Foreign Affairs</td>\n",
              "      <td>1325964643</td>\n",
              "      <td>0</td>\n",
              "      <td>66595893</td>\n",
              "      <td>66595893</td>\n",
              "      <td>2117695178</td>\n",
              "      <td>9</td>\n",
              "    </tr>\n",
              "    <tr>\n",
              "      <th>10</th>\n",
              "      <td>State Department of Infrastructure</td>\n",
              "      <td>32595417593</td>\n",
              "      <td>78717953514</td>\n",
              "      <td>16490600000</td>\n",
              "      <td>95208553514</td>\n",
              "      <td>224811000000000</td>\n",
              "      <td>10</td>\n",
              "    </tr>\n",
              "    <tr>\n",
              "      <th>11</th>\n",
              "      <td>Office of The Attorney General and Department...</td>\n",
              "      <td>5400000</td>\n",
              "      <td>5663790000</td>\n",
              "      <td>1075737143</td>\n",
              "      <td>6739527143</td>\n",
              "      <td>19841128797</td>\n",
              "      <td>11</td>\n",
              "    </tr>\n",
              "    <tr>\n",
              "      <th>12</th>\n",
              "      <td>State Department for Livestock</td>\n",
              "      <td>100129838</td>\n",
              "      <td>1977468904</td>\n",
              "      <td>33392840</td>\n",
              "      <td>2010861744</td>\n",
              "      <td>499778217</td>\n",
              "      <td>12</td>\n",
              "    </tr>\n",
              "    <tr>\n",
              "      <th>13</th>\n",
              "      <td>State Department for East African Affairs</td>\n",
              "      <td>0</td>\n",
              "      <td>0</td>\n",
              "      <td>75000000</td>\n",
              "      <td>75000000</td>\n",
              "      <td>4350000000</td>\n",
              "      <td>13</td>\n",
              "    </tr>\n",
              "    <tr>\n",
              "      <th>14</th>\n",
              "      <td>Ministry of Health</td>\n",
              "      <td>2711275316</td>\n",
              "      <td>3533000000</td>\n",
              "      <td>53725271337</td>\n",
              "      <td>57258271337</td>\n",
              "      <td>141576000000</td>\n",
              "      <td>14</td>\n",
              "    </tr>\n",
              "    <tr>\n",
              "      <th>15</th>\n",
              "      <td>State Department for Agriculture</td>\n",
              "      <td>3778231658</td>\n",
              "      <td>9616690454</td>\n",
              "      <td>7936150090</td>\n",
              "      <td>17552840544</td>\n",
              "      <td>365917000000</td>\n",
              "      <td>15</td>\n",
              "    </tr>\n",
              "    <tr>\n",
              "      <th>16</th>\n",
              "      <td>Ministry of Land Housing and Urban Development</td>\n",
              "      <td>1669285096</td>\n",
              "      <td>15892479145</td>\n",
              "      <td>2480000000</td>\n",
              "      <td>18372479145</td>\n",
              "      <td>82381894951</td>\n",
              "      <td>16</td>\n",
              "    </tr>\n",
              "    <tr>\n",
              "      <th>17</th>\n",
              "      <td>State Department for Devolution</td>\n",
              "      <td>178534000</td>\n",
              "      <td>5116864000</td>\n",
              "      <td>3065860000</td>\n",
              "      <td>8182724000</td>\n",
              "      <td>15369478274</td>\n",
              "      <td>17</td>\n",
              "    </tr>\n",
              "    <tr>\n",
              "      <th>18</th>\n",
              "      <td>State Department for Water and Regional Autho...</td>\n",
              "      <td>343574880</td>\n",
              "      <td>3112883716</td>\n",
              "      <td>861500000</td>\n",
              "      <td>3974383716</td>\n",
              "      <td>43299590613</td>\n",
              "      <td>18</td>\n",
              "    </tr>\n",
              "    <tr>\n",
              "      <th>19</th>\n",
              "      <td>Independent Electoral and Boundaries Commission</td>\n",
              "      <td>0</td>\n",
              "      <td>0</td>\n",
              "      <td>0</td>\n",
              "      <td>0</td>\n",
              "      <td>12004537</td>\n",
              "      <td>19</td>\n",
              "    </tr>\n",
              "    <tr>\n",
              "      <th>20</th>\n",
              "      <td>State Department for Education</td>\n",
              "      <td>1369275907</td>\n",
              "      <td>5650521950</td>\n",
              "      <td>3576851123</td>\n",
              "      <td>9227373073</td>\n",
              "      <td>22316324637</td>\n",
              "      <td>20</td>\n",
              "    </tr>\n",
              "    <tr>\n",
              "      <th>21</th>\n",
              "      <td>Ministry of Energy &amp; Petroleum</td>\n",
              "      <td>8589560000</td>\n",
              "      <td>99460344325</td>\n",
              "      <td>1200000000</td>\n",
              "      <td>100660000000</td>\n",
              "      <td>944715000000</td>\n",
              "      <td>21</td>\n",
              "    </tr>\n",
              "    <tr>\n",
              "      <th>22</th>\n",
              "      <td>Ministry of Information and Communications an...</td>\n",
              "      <td>2236480</td>\n",
              "      <td>7846668960</td>\n",
              "      <td>24654762</td>\n",
              "      <td>7871323722</td>\n",
              "      <td>16075244771</td>\n",
              "      <td>22</td>\n",
              "    </tr>\n",
              "    <tr>\n",
              "      <th>23</th>\n",
              "      <td>Ministry of Labour Social Security and Services</td>\n",
              "      <td>560000000</td>\n",
              "      <td>4209438698</td>\n",
              "      <td>2421465848</td>\n",
              "      <td>6630904546</td>\n",
              "      <td>23415319105</td>\n",
              "      <td>23</td>\n",
              "    </tr>\n",
              "  </tbody>\n",
              "</table>\n",
              "</div>"
            ],
            "text/plain": [
              "                                          NG_Ministry  ...  OBJECTID\n",
              "0    Ministry of Industialization and Enterprise D...  ...         0\n",
              "1                                Ministry of Defence   ...         1\n",
              "2                       State Department of Transport  ...         2\n",
              "3                        State Department of planning  ...         3\n",
              "4                 Ministry of Sports Culture and Arts  ...         4\n",
              "5                      State Department for Fisheries  ...         5\n",
              "6                               The National Treasury  ...         6\n",
              "7    State Department for Environment  and Natural...  ...         7\n",
              "8                       State Department for Interior  ...         8\n",
              "9                         Ministry of Foreign Affairs  ...         9\n",
              "10                 State Department of Infrastructure  ...        10\n",
              "11   Office of The Attorney General and Department...  ...        11\n",
              "12                     State Department for Livestock  ...        12\n",
              "13          State Department for East African Affairs  ...        13\n",
              "14                                 Ministry of Health  ...        14\n",
              "15                   State Department for Agriculture  ...        15\n",
              "16     Ministry of Land Housing and Urban Development  ...        16\n",
              "17                    State Department for Devolution  ...        17\n",
              "18   State Department for Water and Regional Autho...  ...        18\n",
              "19    Independent Electoral and Boundaries Commission  ...        19\n",
              "20                     State Department for Education  ...        20\n",
              "21                     Ministry of Energy & Petroleum  ...        21\n",
              "22   Ministry of Information and Communications an...  ...        22\n",
              "23    Ministry of Labour Social Security and Services  ...        23\n",
              "\n",
              "[24 rows x 7 columns]"
            ]
          },
          "metadata": {
            "tags": []
          },
          "execution_count": 3
        }
      ]
    },
    {
      "cell_type": "code",
      "metadata": {
        "colab": {
          "base_uri": "https://localhost:8080/"
        },
        "id": "W90_H2yRvxwy",
        "outputId": "270aa2ed-59ea-4b5b-caaa-a478004d0b3d"
      },
      "source": [
        "df.info()"
      ],
      "execution_count": null,
      "outputs": [
        {
          "output_type": "stream",
          "text": [
            "<class 'pandas.core.frame.DataFrame'>\n",
            "RangeIndex: 24 entries, 0 to 23\n",
            "Data columns (total 7 columns):\n",
            " #   Column                                 Non-Null Count  Dtype \n",
            "---  ------                                 --------------  ----- \n",
            " 0   NG_Ministry                            24 non-null     object\n",
            " 1   Total_-_GOK_Budget_Est_KES             24 non-null     int64 \n",
            " 2   Total_-_Loan_Budget_Est_KES            24 non-null     int64 \n",
            " 3   Total_-_Grant_Budget_Est_KES           24 non-null     int64 \n",
            " 4   Total_Budget_Supported__by_Donors_KES  24 non-null     int64 \n",
            " 5   Total_Project_Cost_KES                 24 non-null     int64 \n",
            " 6   OBJECTID                               24 non-null     int64 \n",
            "dtypes: int64(6), object(1)\n",
            "memory usage: 1.4+ KB\n"
          ],
          "name": "stdout"
        }
      ]
    },
    {
      "cell_type": "code",
      "metadata": {
        "colab": {
          "base_uri": "https://localhost:8080/",
          "height": 319
        },
        "id": "Ak1h2uF2v1U6",
        "outputId": "90fd04a1-fd0e-4910-d228-93c8edb8e00e"
      },
      "source": [
        "df.describe()"
      ],
      "execution_count": null,
      "outputs": [
        {
          "output_type": "execute_result",
          "data": {
            "text/html": [
              "<div>\n",
              "<style scoped>\n",
              "    .dataframe tbody tr th:only-of-type {\n",
              "        vertical-align: middle;\n",
              "    }\n",
              "\n",
              "    .dataframe tbody tr th {\n",
              "        vertical-align: top;\n",
              "    }\n",
              "\n",
              "    .dataframe thead th {\n",
              "        text-align: right;\n",
              "    }\n",
              "</style>\n",
              "<table border=\"1\" class=\"dataframe\">\n",
              "  <thead>\n",
              "    <tr style=\"text-align: right;\">\n",
              "      <th></th>\n",
              "      <th>Total_-_GOK_Budget_Est_KES</th>\n",
              "      <th>Total_-_Loan_Budget_Est_KES</th>\n",
              "      <th>Total_-_Grant_Budget_Est_KES</th>\n",
              "      <th>Total_Budget_Supported__by_Donors_KES</th>\n",
              "      <th>Total_Project_Cost_KES</th>\n",
              "      <th>OBJECTID</th>\n",
              "    </tr>\n",
              "  </thead>\n",
              "  <tbody>\n",
              "    <tr>\n",
              "      <th>count</th>\n",
              "      <td>2.400000e+01</td>\n",
              "      <td>2.400000e+01</td>\n",
              "      <td>2.400000e+01</td>\n",
              "      <td>2.400000e+01</td>\n",
              "      <td>2.400000e+01</td>\n",
              "      <td>24.000000</td>\n",
              "    </tr>\n",
              "    <tr>\n",
              "      <th>mean</th>\n",
              "      <td>3.656406e+09</td>\n",
              "      <td>1.561785e+10</td>\n",
              "      <td>4.639528e+09</td>\n",
              "      <td>2.025736e+10</td>\n",
              "      <td>9.508392e+12</td>\n",
              "      <td>11.500000</td>\n",
              "    </tr>\n",
              "    <tr>\n",
              "      <th>std</th>\n",
              "      <td>7.747096e+09</td>\n",
              "      <td>3.038706e+10</td>\n",
              "      <td>1.116626e+10</td>\n",
              "      <td>3.295107e+10</td>\n",
              "      <td>4.585997e+13</td>\n",
              "      <td>7.071068</td>\n",
              "    </tr>\n",
              "    <tr>\n",
              "      <th>min</th>\n",
              "      <td>0.000000e+00</td>\n",
              "      <td>0.000000e+00</td>\n",
              "      <td>0.000000e+00</td>\n",
              "      <td>0.000000e+00</td>\n",
              "      <td>3.500000e+05</td>\n",
              "      <td>0.000000</td>\n",
              "    </tr>\n",
              "    <tr>\n",
              "      <th>25%</th>\n",
              "      <td>4.609120e+06</td>\n",
              "      <td>0.000000e+00</td>\n",
              "      <td>7.289897e+07</td>\n",
              "      <td>2.265361e+08</td>\n",
              "      <td>1.890123e+09</td>\n",
              "      <td>5.750000</td>\n",
              "    </tr>\n",
              "    <tr>\n",
              "      <th>50%</th>\n",
              "      <td>3.717874e+08</td>\n",
              "      <td>3.871219e+09</td>\n",
              "      <td>9.686186e+08</td>\n",
              "      <td>6.685216e+09</td>\n",
              "      <td>2.286582e+10</td>\n",
              "      <td>11.500000</td>\n",
              "    </tr>\n",
              "    <tr>\n",
              "      <th>75%</th>\n",
              "      <td>1.929783e+09</td>\n",
              "      <td>8.289174e+09</td>\n",
              "      <td>3.176680e+09</td>\n",
              "      <td>1.775775e+10</td>\n",
              "      <td>1.894495e+11</td>\n",
              "      <td>17.250000</td>\n",
              "    </tr>\n",
              "    <tr>\n",
              "      <th>max</th>\n",
              "      <td>3.259542e+10</td>\n",
              "      <td>9.946034e+10</td>\n",
              "      <td>5.372527e+10</td>\n",
              "      <td>1.006600e+11</td>\n",
              "      <td>2.248110e+14</td>\n",
              "      <td>23.000000</td>\n",
              "    </tr>\n",
              "  </tbody>\n",
              "</table>\n",
              "</div>"
            ],
            "text/plain": [
              "       Total_-_GOK_Budget_Est_KES  ...   OBJECTID\n",
              "count                2.400000e+01  ...  24.000000\n",
              "mean                 3.656406e+09  ...  11.500000\n",
              "std                  7.747096e+09  ...   7.071068\n",
              "min                  0.000000e+00  ...   0.000000\n",
              "25%                  4.609120e+06  ...   5.750000\n",
              "50%                  3.717874e+08  ...  11.500000\n",
              "75%                  1.929783e+09  ...  17.250000\n",
              "max                  3.259542e+10  ...  23.000000\n",
              "\n",
              "[8 rows x 6 columns]"
            ]
          },
          "metadata": {
            "tags": []
          },
          "execution_count": 5
        }
      ]
    },
    {
      "cell_type": "code",
      "metadata": {
        "colab": {
          "base_uri": "https://localhost:8080/",
          "height": 788
        },
        "id": "Wkym4uKsv5O7",
        "outputId": "050f3398-168a-4307-d814-7b26bab7efc6"
      },
      "source": [
        "df.isnull()"
      ],
      "execution_count": null,
      "outputs": [
        {
          "output_type": "execute_result",
          "data": {
            "text/html": [
              "<div>\n",
              "<style scoped>\n",
              "    .dataframe tbody tr th:only-of-type {\n",
              "        vertical-align: middle;\n",
              "    }\n",
              "\n",
              "    .dataframe tbody tr th {\n",
              "        vertical-align: top;\n",
              "    }\n",
              "\n",
              "    .dataframe thead th {\n",
              "        text-align: right;\n",
              "    }\n",
              "</style>\n",
              "<table border=\"1\" class=\"dataframe\">\n",
              "  <thead>\n",
              "    <tr style=\"text-align: right;\">\n",
              "      <th></th>\n",
              "      <th>NG_Ministry</th>\n",
              "      <th>Total_-_GOK_Budget_Est_KES</th>\n",
              "      <th>Total_-_Loan_Budget_Est_KES</th>\n",
              "      <th>Total_-_Grant_Budget_Est_KES</th>\n",
              "      <th>Total_Budget_Supported__by_Donors_KES</th>\n",
              "      <th>Total_Project_Cost_KES</th>\n",
              "      <th>OBJECTID</th>\n",
              "    </tr>\n",
              "  </thead>\n",
              "  <tbody>\n",
              "    <tr>\n",
              "      <th>0</th>\n",
              "      <td>False</td>\n",
              "      <td>False</td>\n",
              "      <td>False</td>\n",
              "      <td>False</td>\n",
              "      <td>False</td>\n",
              "      <td>False</td>\n",
              "      <td>False</td>\n",
              "    </tr>\n",
              "    <tr>\n",
              "      <th>1</th>\n",
              "      <td>False</td>\n",
              "      <td>False</td>\n",
              "      <td>False</td>\n",
              "      <td>False</td>\n",
              "      <td>False</td>\n",
              "      <td>False</td>\n",
              "      <td>False</td>\n",
              "    </tr>\n",
              "    <tr>\n",
              "      <th>2</th>\n",
              "      <td>False</td>\n",
              "      <td>False</td>\n",
              "      <td>False</td>\n",
              "      <td>False</td>\n",
              "      <td>False</td>\n",
              "      <td>False</td>\n",
              "      <td>False</td>\n",
              "    </tr>\n",
              "    <tr>\n",
              "      <th>3</th>\n",
              "      <td>False</td>\n",
              "      <td>False</td>\n",
              "      <td>False</td>\n",
              "      <td>False</td>\n",
              "      <td>False</td>\n",
              "      <td>False</td>\n",
              "      <td>False</td>\n",
              "    </tr>\n",
              "    <tr>\n",
              "      <th>4</th>\n",
              "      <td>False</td>\n",
              "      <td>False</td>\n",
              "      <td>False</td>\n",
              "      <td>False</td>\n",
              "      <td>False</td>\n",
              "      <td>False</td>\n",
              "      <td>False</td>\n",
              "    </tr>\n",
              "    <tr>\n",
              "      <th>5</th>\n",
              "      <td>False</td>\n",
              "      <td>False</td>\n",
              "      <td>False</td>\n",
              "      <td>False</td>\n",
              "      <td>False</td>\n",
              "      <td>False</td>\n",
              "      <td>False</td>\n",
              "    </tr>\n",
              "    <tr>\n",
              "      <th>6</th>\n",
              "      <td>False</td>\n",
              "      <td>False</td>\n",
              "      <td>False</td>\n",
              "      <td>False</td>\n",
              "      <td>False</td>\n",
              "      <td>False</td>\n",
              "      <td>False</td>\n",
              "    </tr>\n",
              "    <tr>\n",
              "      <th>7</th>\n",
              "      <td>False</td>\n",
              "      <td>False</td>\n",
              "      <td>False</td>\n",
              "      <td>False</td>\n",
              "      <td>False</td>\n",
              "      <td>False</td>\n",
              "      <td>False</td>\n",
              "    </tr>\n",
              "    <tr>\n",
              "      <th>8</th>\n",
              "      <td>False</td>\n",
              "      <td>False</td>\n",
              "      <td>False</td>\n",
              "      <td>False</td>\n",
              "      <td>False</td>\n",
              "      <td>False</td>\n",
              "      <td>False</td>\n",
              "    </tr>\n",
              "    <tr>\n",
              "      <th>9</th>\n",
              "      <td>False</td>\n",
              "      <td>False</td>\n",
              "      <td>False</td>\n",
              "      <td>False</td>\n",
              "      <td>False</td>\n",
              "      <td>False</td>\n",
              "      <td>False</td>\n",
              "    </tr>\n",
              "    <tr>\n",
              "      <th>10</th>\n",
              "      <td>False</td>\n",
              "      <td>False</td>\n",
              "      <td>False</td>\n",
              "      <td>False</td>\n",
              "      <td>False</td>\n",
              "      <td>False</td>\n",
              "      <td>False</td>\n",
              "    </tr>\n",
              "    <tr>\n",
              "      <th>11</th>\n",
              "      <td>False</td>\n",
              "      <td>False</td>\n",
              "      <td>False</td>\n",
              "      <td>False</td>\n",
              "      <td>False</td>\n",
              "      <td>False</td>\n",
              "      <td>False</td>\n",
              "    </tr>\n",
              "    <tr>\n",
              "      <th>12</th>\n",
              "      <td>False</td>\n",
              "      <td>False</td>\n",
              "      <td>False</td>\n",
              "      <td>False</td>\n",
              "      <td>False</td>\n",
              "      <td>False</td>\n",
              "      <td>False</td>\n",
              "    </tr>\n",
              "    <tr>\n",
              "      <th>13</th>\n",
              "      <td>False</td>\n",
              "      <td>False</td>\n",
              "      <td>False</td>\n",
              "      <td>False</td>\n",
              "      <td>False</td>\n",
              "      <td>False</td>\n",
              "      <td>False</td>\n",
              "    </tr>\n",
              "    <tr>\n",
              "      <th>14</th>\n",
              "      <td>False</td>\n",
              "      <td>False</td>\n",
              "      <td>False</td>\n",
              "      <td>False</td>\n",
              "      <td>False</td>\n",
              "      <td>False</td>\n",
              "      <td>False</td>\n",
              "    </tr>\n",
              "    <tr>\n",
              "      <th>15</th>\n",
              "      <td>False</td>\n",
              "      <td>False</td>\n",
              "      <td>False</td>\n",
              "      <td>False</td>\n",
              "      <td>False</td>\n",
              "      <td>False</td>\n",
              "      <td>False</td>\n",
              "    </tr>\n",
              "    <tr>\n",
              "      <th>16</th>\n",
              "      <td>False</td>\n",
              "      <td>False</td>\n",
              "      <td>False</td>\n",
              "      <td>False</td>\n",
              "      <td>False</td>\n",
              "      <td>False</td>\n",
              "      <td>False</td>\n",
              "    </tr>\n",
              "    <tr>\n",
              "      <th>17</th>\n",
              "      <td>False</td>\n",
              "      <td>False</td>\n",
              "      <td>False</td>\n",
              "      <td>False</td>\n",
              "      <td>False</td>\n",
              "      <td>False</td>\n",
              "      <td>False</td>\n",
              "    </tr>\n",
              "    <tr>\n",
              "      <th>18</th>\n",
              "      <td>False</td>\n",
              "      <td>False</td>\n",
              "      <td>False</td>\n",
              "      <td>False</td>\n",
              "      <td>False</td>\n",
              "      <td>False</td>\n",
              "      <td>False</td>\n",
              "    </tr>\n",
              "    <tr>\n",
              "      <th>19</th>\n",
              "      <td>False</td>\n",
              "      <td>False</td>\n",
              "      <td>False</td>\n",
              "      <td>False</td>\n",
              "      <td>False</td>\n",
              "      <td>False</td>\n",
              "      <td>False</td>\n",
              "    </tr>\n",
              "    <tr>\n",
              "      <th>20</th>\n",
              "      <td>False</td>\n",
              "      <td>False</td>\n",
              "      <td>False</td>\n",
              "      <td>False</td>\n",
              "      <td>False</td>\n",
              "      <td>False</td>\n",
              "      <td>False</td>\n",
              "    </tr>\n",
              "    <tr>\n",
              "      <th>21</th>\n",
              "      <td>False</td>\n",
              "      <td>False</td>\n",
              "      <td>False</td>\n",
              "      <td>False</td>\n",
              "      <td>False</td>\n",
              "      <td>False</td>\n",
              "      <td>False</td>\n",
              "    </tr>\n",
              "    <tr>\n",
              "      <th>22</th>\n",
              "      <td>False</td>\n",
              "      <td>False</td>\n",
              "      <td>False</td>\n",
              "      <td>False</td>\n",
              "      <td>False</td>\n",
              "      <td>False</td>\n",
              "      <td>False</td>\n",
              "    </tr>\n",
              "    <tr>\n",
              "      <th>23</th>\n",
              "      <td>False</td>\n",
              "      <td>False</td>\n",
              "      <td>False</td>\n",
              "      <td>False</td>\n",
              "      <td>False</td>\n",
              "      <td>False</td>\n",
              "      <td>False</td>\n",
              "    </tr>\n",
              "  </tbody>\n",
              "</table>\n",
              "</div>"
            ],
            "text/plain": [
              "    NG_Ministry  Total_-_GOK_Budget_Est_KES  ...  Total_Project_Cost_KES  OBJECTID\n",
              "0         False                       False  ...                   False     False\n",
              "1         False                       False  ...                   False     False\n",
              "2         False                       False  ...                   False     False\n",
              "3         False                       False  ...                   False     False\n",
              "4         False                       False  ...                   False     False\n",
              "5         False                       False  ...                   False     False\n",
              "6         False                       False  ...                   False     False\n",
              "7         False                       False  ...                   False     False\n",
              "8         False                       False  ...                   False     False\n",
              "9         False                       False  ...                   False     False\n",
              "10        False                       False  ...                   False     False\n",
              "11        False                       False  ...                   False     False\n",
              "12        False                       False  ...                   False     False\n",
              "13        False                       False  ...                   False     False\n",
              "14        False                       False  ...                   False     False\n",
              "15        False                       False  ...                   False     False\n",
              "16        False                       False  ...                   False     False\n",
              "17        False                       False  ...                   False     False\n",
              "18        False                       False  ...                   False     False\n",
              "19        False                       False  ...                   False     False\n",
              "20        False                       False  ...                   False     False\n",
              "21        False                       False  ...                   False     False\n",
              "22        False                       False  ...                   False     False\n",
              "23        False                       False  ...                   False     False\n",
              "\n",
              "[24 rows x 7 columns]"
            ]
          },
          "metadata": {
            "tags": []
          },
          "execution_count": 6
        }
      ]
    },
    {
      "cell_type": "markdown",
      "metadata": {
        "id": "lHRxPdvkv8ty"
      },
      "source": [
        "## Data Cleaning"
      ]
    },
    {
      "cell_type": "code",
      "metadata": {
        "id": "Gl4jZunuv-wn"
      },
      "source": [
        "df.rename(columns={'NG_Ministry':'Ministry'},inplace=True)\r\n",
        "df.rename(columns={'Total_-_GOK_Budget_Est_KES':'Total_Budget_Estimate'},inplace=True)\r\n",
        "df.rename(columns={'Total_-_Loan_Budget_Est_KES':'Total_Loan_Budget'},inplace=True)\r\n",
        "df.rename(columns={'Total_-_Grant_Budget_Est_KES':'Total_Grant_Budget'},inplace=True)\r\n"
      ],
      "execution_count": null,
      "outputs": []
    },
    {
      "cell_type": "code",
      "metadata": {
        "id": "sGymfwgawR9S"
      },
      "source": [
        "df['Ministry']=df['Ministry'].str.lower()"
      ],
      "execution_count": null,
      "outputs": []
    },
    {
      "cell_type": "code",
      "metadata": {
        "id": "K54qQl5zwSA0"
      },
      "source": [
        "df = df.drop_duplicates()"
      ],
      "execution_count": null,
      "outputs": []
    },
    {
      "cell_type": "code",
      "metadata": {
        "colab": {
          "base_uri": "https://localhost:8080/",
          "height": 1000
        },
        "id": "ecSRRMHzwSED",
        "outputId": "2f85040b-91a0-4f13-be33-4065c091c9a3"
      },
      "source": [
        "df"
      ],
      "execution_count": null,
      "outputs": [
        {
          "output_type": "execute_result",
          "data": {
            "text/html": [
              "<div>\n",
              "<style scoped>\n",
              "    .dataframe tbody tr th:only-of-type {\n",
              "        vertical-align: middle;\n",
              "    }\n",
              "\n",
              "    .dataframe tbody tr th {\n",
              "        vertical-align: top;\n",
              "    }\n",
              "\n",
              "    .dataframe thead th {\n",
              "        text-align: right;\n",
              "    }\n",
              "</style>\n",
              "<table border=\"1\" class=\"dataframe\">\n",
              "  <thead>\n",
              "    <tr style=\"text-align: right;\">\n",
              "      <th></th>\n",
              "      <th>Ministry</th>\n",
              "      <th>Total_Budget_Estimate</th>\n",
              "      <th>Total_Loan_Budget</th>\n",
              "      <th>Total_Grant_Budget</th>\n",
              "      <th>Total_Budget_Supported__by_Donors_KES</th>\n",
              "      <th>Total_Project_Cost_KES</th>\n",
              "      <th>OBJECTID</th>\n",
              "    </tr>\n",
              "  </thead>\n",
              "  <tbody>\n",
              "    <tr>\n",
              "      <th>0</th>\n",
              "      <td>ministry of industialization and enterprise d...</td>\n",
              "      <td>0</td>\n",
              "      <td>0</td>\n",
              "      <td>805264000</td>\n",
              "      <td>805264000</td>\n",
              "      <td>26358709656</td>\n",
              "      <td>0</td>\n",
              "    </tr>\n",
              "    <tr>\n",
              "      <th>1</th>\n",
              "      <td>ministry of defence</td>\n",
              "      <td>400000000</td>\n",
              "      <td>0</td>\n",
              "      <td>89000000</td>\n",
              "      <td>89000000</td>\n",
              "      <td>281000000</td>\n",
              "      <td>1</td>\n",
              "    </tr>\n",
              "    <tr>\n",
              "      <th>2</th>\n",
              "      <td>state department of transport</td>\n",
              "      <td>1362791218</td>\n",
              "      <td>98073634300</td>\n",
              "      <td>800000000</td>\n",
              "      <td>98873634300</td>\n",
              "      <td>794557000000</td>\n",
              "      <td>2</td>\n",
              "    </tr>\n",
              "    <tr>\n",
              "      <th>3</th>\n",
              "      <td>state department of planning</td>\n",
              "      <td>16319402693</td>\n",
              "      <td>5454728000</td>\n",
              "      <td>3509140734</td>\n",
              "      <td>8963868734</td>\n",
              "      <td>123256000000</td>\n",
              "      <td>3</td>\n",
              "    </tr>\n",
              "    <tr>\n",
              "      <th>4</th>\n",
              "      <td>ministry of sports culture and arts</td>\n",
              "      <td>0</td>\n",
              "      <td>100000000</td>\n",
              "      <td>50000000</td>\n",
              "      <td>150000000</td>\n",
              "      <td>350000</td>\n",
              "      <td>4</td>\n",
              "    </tr>\n",
              "    <tr>\n",
              "      <th>5</th>\n",
              "      <td>state department for fisheries</td>\n",
              "      <td>0</td>\n",
              "      <td>0</td>\n",
              "      <td>0</td>\n",
              "      <td>0</td>\n",
              "      <td>700000000</td>\n",
              "      <td>5</td>\n",
              "    </tr>\n",
              "    <tr>\n",
              "      <th>6</th>\n",
              "      <td>the national treasury</td>\n",
              "      <td>42000000</td>\n",
              "      <td>1938701220</td>\n",
              "      <td>2547877349</td>\n",
              "      <td>4486578569</td>\n",
              "      <td>333070000000</td>\n",
              "      <td>6</td>\n",
              "    </tr>\n",
              "    <tr>\n",
              "      <th>7</th>\n",
              "      <td>state department for environment  and natural...</td>\n",
              "      <td>16375664605</td>\n",
              "      <td>28463176033</td>\n",
              "      <td>10262263852</td>\n",
              "      <td>38725439885</td>\n",
              "      <td>429092000000</td>\n",
              "      <td>7</td>\n",
              "    </tr>\n",
              "    <tr>\n",
              "      <th>8</th>\n",
              "      <td>state department for interior</td>\n",
              "      <td>25000000</td>\n",
              "      <td>0</td>\n",
              "      <td>252048100</td>\n",
              "      <td>252048100</td>\n",
              "      <td>1207405242</td>\n",
              "      <td>8</td>\n",
              "    </tr>\n",
              "    <tr>\n",
              "      <th>9</th>\n",
              "      <td>ministry of foreign affairs</td>\n",
              "      <td>1325964643</td>\n",
              "      <td>0</td>\n",
              "      <td>66595893</td>\n",
              "      <td>66595893</td>\n",
              "      <td>2117695178</td>\n",
              "      <td>9</td>\n",
              "    </tr>\n",
              "    <tr>\n",
              "      <th>10</th>\n",
              "      <td>state department of infrastructure</td>\n",
              "      <td>32595417593</td>\n",
              "      <td>78717953514</td>\n",
              "      <td>16490600000</td>\n",
              "      <td>95208553514</td>\n",
              "      <td>224811000000000</td>\n",
              "      <td>10</td>\n",
              "    </tr>\n",
              "    <tr>\n",
              "      <th>11</th>\n",
              "      <td>office of the attorney general and department...</td>\n",
              "      <td>5400000</td>\n",
              "      <td>5663790000</td>\n",
              "      <td>1075737143</td>\n",
              "      <td>6739527143</td>\n",
              "      <td>19841128797</td>\n",
              "      <td>11</td>\n",
              "    </tr>\n",
              "    <tr>\n",
              "      <th>12</th>\n",
              "      <td>state department for livestock</td>\n",
              "      <td>100129838</td>\n",
              "      <td>1977468904</td>\n",
              "      <td>33392840</td>\n",
              "      <td>2010861744</td>\n",
              "      <td>499778217</td>\n",
              "      <td>12</td>\n",
              "    </tr>\n",
              "    <tr>\n",
              "      <th>13</th>\n",
              "      <td>state department for east african affairs</td>\n",
              "      <td>0</td>\n",
              "      <td>0</td>\n",
              "      <td>75000000</td>\n",
              "      <td>75000000</td>\n",
              "      <td>4350000000</td>\n",
              "      <td>13</td>\n",
              "    </tr>\n",
              "    <tr>\n",
              "      <th>14</th>\n",
              "      <td>ministry of health</td>\n",
              "      <td>2711275316</td>\n",
              "      <td>3533000000</td>\n",
              "      <td>53725271337</td>\n",
              "      <td>57258271337</td>\n",
              "      <td>141576000000</td>\n",
              "      <td>14</td>\n",
              "    </tr>\n",
              "    <tr>\n",
              "      <th>15</th>\n",
              "      <td>state department for agriculture</td>\n",
              "      <td>3778231658</td>\n",
              "      <td>9616690454</td>\n",
              "      <td>7936150090</td>\n",
              "      <td>17552840544</td>\n",
              "      <td>365917000000</td>\n",
              "      <td>15</td>\n",
              "    </tr>\n",
              "    <tr>\n",
              "      <th>16</th>\n",
              "      <td>ministry of land housing and urban development</td>\n",
              "      <td>1669285096</td>\n",
              "      <td>15892479145</td>\n",
              "      <td>2480000000</td>\n",
              "      <td>18372479145</td>\n",
              "      <td>82381894951</td>\n",
              "      <td>16</td>\n",
              "    </tr>\n",
              "    <tr>\n",
              "      <th>17</th>\n",
              "      <td>state department for devolution</td>\n",
              "      <td>178534000</td>\n",
              "      <td>5116864000</td>\n",
              "      <td>3065860000</td>\n",
              "      <td>8182724000</td>\n",
              "      <td>15369478274</td>\n",
              "      <td>17</td>\n",
              "    </tr>\n",
              "    <tr>\n",
              "      <th>18</th>\n",
              "      <td>state department for water and regional autho...</td>\n",
              "      <td>343574880</td>\n",
              "      <td>3112883716</td>\n",
              "      <td>861500000</td>\n",
              "      <td>3974383716</td>\n",
              "      <td>43299590613</td>\n",
              "      <td>18</td>\n",
              "    </tr>\n",
              "    <tr>\n",
              "      <th>19</th>\n",
              "      <td>independent electoral and boundaries commission</td>\n",
              "      <td>0</td>\n",
              "      <td>0</td>\n",
              "      <td>0</td>\n",
              "      <td>0</td>\n",
              "      <td>12004537</td>\n",
              "      <td>19</td>\n",
              "    </tr>\n",
              "    <tr>\n",
              "      <th>20</th>\n",
              "      <td>state department for education</td>\n",
              "      <td>1369275907</td>\n",
              "      <td>5650521950</td>\n",
              "      <td>3576851123</td>\n",
              "      <td>9227373073</td>\n",
              "      <td>22316324637</td>\n",
              "      <td>20</td>\n",
              "    </tr>\n",
              "    <tr>\n",
              "      <th>21</th>\n",
              "      <td>ministry of energy &amp; petroleum</td>\n",
              "      <td>8589560000</td>\n",
              "      <td>99460344325</td>\n",
              "      <td>1200000000</td>\n",
              "      <td>100660000000</td>\n",
              "      <td>944715000000</td>\n",
              "      <td>21</td>\n",
              "    </tr>\n",
              "    <tr>\n",
              "      <th>22</th>\n",
              "      <td>ministry of information and communications an...</td>\n",
              "      <td>2236480</td>\n",
              "      <td>7846668960</td>\n",
              "      <td>24654762</td>\n",
              "      <td>7871323722</td>\n",
              "      <td>16075244771</td>\n",
              "      <td>22</td>\n",
              "    </tr>\n",
              "    <tr>\n",
              "      <th>23</th>\n",
              "      <td>ministry of labour social security and services</td>\n",
              "      <td>560000000</td>\n",
              "      <td>4209438698</td>\n",
              "      <td>2421465848</td>\n",
              "      <td>6630904546</td>\n",
              "      <td>23415319105</td>\n",
              "      <td>23</td>\n",
              "    </tr>\n",
              "  </tbody>\n",
              "</table>\n",
              "</div>"
            ],
            "text/plain": [
              "                                             Ministry  ...  OBJECTID\n",
              "0    ministry of industialization and enterprise d...  ...         0\n",
              "1                                ministry of defence   ...         1\n",
              "2                       state department of transport  ...         2\n",
              "3                        state department of planning  ...         3\n",
              "4                 ministry of sports culture and arts  ...         4\n",
              "5                      state department for fisheries  ...         5\n",
              "6                               the national treasury  ...         6\n",
              "7    state department for environment  and natural...  ...         7\n",
              "8                       state department for interior  ...         8\n",
              "9                         ministry of foreign affairs  ...         9\n",
              "10                 state department of infrastructure  ...        10\n",
              "11   office of the attorney general and department...  ...        11\n",
              "12                     state department for livestock  ...        12\n",
              "13          state department for east african affairs  ...        13\n",
              "14                                 ministry of health  ...        14\n",
              "15                   state department for agriculture  ...        15\n",
              "16     ministry of land housing and urban development  ...        16\n",
              "17                    state department for devolution  ...        17\n",
              "18   state department for water and regional autho...  ...        18\n",
              "19    independent electoral and boundaries commission  ...        19\n",
              "20                     state department for education  ...        20\n",
              "21                     ministry of energy & petroleum  ...        21\n",
              "22   ministry of information and communications an...  ...        22\n",
              "23    ministry of labour social security and services  ...        23\n",
              "\n",
              "[24 rows x 7 columns]"
            ]
          },
          "metadata": {
            "tags": []
          },
          "execution_count": 14
        }
      ]
    },
    {
      "cell_type": "code",
      "metadata": {
        "colab": {
          "base_uri": "https://localhost:8080/"
        },
        "id": "eu40xLYMhsis",
        "outputId": "a76dc9fb-bc74-4b57-9a75-9a87528da32a"
      },
      "source": [
        "Finance.dtypes"
      ],
      "execution_count": null,
      "outputs": [
        {
          "output_type": "execute_result",
          "data": {
            "text/plain": [
              "Ministry                                 object\n",
              " Total_Budget_Estimate                    int64\n",
              "Total_Loan_Budget                         int64\n",
              "Total_Grant_Budget                        int64\n",
              "Total_Budget_Supported__by_Donors_KES     int64\n",
              "Total_Project_Cost_KES                    int64\n",
              "OBJECTID                                  int64\n",
              "dtype: object"
            ]
          },
          "metadata": {
            "tags": []
          },
          "execution_count": 10
        }
      ]
    },
    {
      "cell_type": "code",
      "metadata": {
        "id": "uiju1YIuwSHc"
      },
      "source": [
        "df.to_csv('2014_2015_estimated_Government_Project_finance_allocations_to_National_Government_Ministries.csv')"
      ],
      "execution_count": null,
      "outputs": []
    },
    {
      "cell_type": "markdown",
      "metadata": {
        "id": "GWK6KqHixzfX"
      },
      "source": [
        "##  Analysis of the data "
      ]
    },
    {
      "cell_type": "code",
      "metadata": {
        "id": "blp4yFheyk10"
      },
      "source": [
        "f ='2014_2015_estimated_Government_Project_finance_allocations_to_National_Government_Ministries (2).csv'\r\n",
        "Finance = pd.read_csv(f,index_col=0,encoding='utf-8')"
      ],
      "execution_count": 2,
      "outputs": []
    },
    {
      "cell_type": "markdown",
      "metadata": {
        "id": "k5TwiItpzu7U"
      },
      "source": [
        "How many ministries are there "
      ]
    },
    {
      "cell_type": "code",
      "metadata": {
        "colab": {
          "base_uri": "https://localhost:8080/"
        },
        "id": "SvvykDlcg1UE",
        "outputId": "81ef723b-4e28-491c-ef3c-ec37e2858b20"
      },
      "source": [
        "Finance['Ministry'].count()"
      ],
      "execution_count": 3,
      "outputs": [
        {
          "output_type": "execute_result",
          "data": {
            "text/plain": [
              "24"
            ]
          },
          "metadata": {
            "tags": []
          },
          "execution_count": 3
        }
      ]
    },
    {
      "cell_type": "markdown",
      "metadata": {
        "id": "E96OgPbdg9eF"
      },
      "source": [
        "Which ministry had the most funding "
      ]
    },
    {
      "cell_type": "code",
      "metadata": {
        "colab": {
          "base_uri": "https://localhost:8080/",
          "height": 80
        },
        "id": "8qikTyHRhAae",
        "outputId": "967c2e8c-2a00-4156-8561-24b626db3fe0"
      },
      "source": [
        "Finance[' Total_Budget_Estimate'].max()\r\n",
        "Finance[Finance[' Total_Budget_Estimate']==32595417593]"
      ],
      "execution_count": 4,
      "outputs": [
        {
          "output_type": "execute_result",
          "data": {
            "text/html": [
              "<div>\n",
              "<style scoped>\n",
              "    .dataframe tbody tr th:only-of-type {\n",
              "        vertical-align: middle;\n",
              "    }\n",
              "\n",
              "    .dataframe tbody tr th {\n",
              "        vertical-align: top;\n",
              "    }\n",
              "\n",
              "    .dataframe thead th {\n",
              "        text-align: right;\n",
              "    }\n",
              "</style>\n",
              "<table border=\"1\" class=\"dataframe\">\n",
              "  <thead>\n",
              "    <tr style=\"text-align: right;\">\n",
              "      <th></th>\n",
              "      <th>Ministry</th>\n",
              "      <th>Total_Budget_Estimate</th>\n",
              "      <th>Total_Loan_Budget</th>\n",
              "      <th>Total_Grant_Budget</th>\n",
              "      <th>Total_Budget_Supported__by_Donors_KES</th>\n",
              "      <th>Total_Project_Cost_KES</th>\n",
              "      <th>OBJECTID</th>\n",
              "    </tr>\n",
              "  </thead>\n",
              "  <tbody>\n",
              "    <tr>\n",
              "      <th>10</th>\n",
              "      <td>state department of infrastructure</td>\n",
              "      <td>32595417593</td>\n",
              "      <td>78717953514</td>\n",
              "      <td>16490600000</td>\n",
              "      <td>95208553514</td>\n",
              "      <td>224811000000000</td>\n",
              "      <td>10</td>\n",
              "    </tr>\n",
              "  </tbody>\n",
              "</table>\n",
              "</div>"
            ],
            "text/plain": [
              "                               Ministry  ...  OBJECTID\n",
              "10   state department of infrastructure  ...        10\n",
              "\n",
              "[1 rows x 7 columns]"
            ]
          },
          "metadata": {
            "tags": []
          },
          "execution_count": 4
        }
      ]
    },
    {
      "cell_type": "markdown",
      "metadata": {
        "id": "HVRjEo_ezyKE"
      },
      "source": [
        "WHich three ministries have the least funding "
      ]
    },
    {
      "cell_type": "code",
      "metadata": {
        "colab": {
          "base_uri": "https://localhost:8080/",
          "height": 142
        },
        "id": "76lTelEGg141",
        "outputId": "ba612450-6be0-4323-a8a5-a28a8c8ec2f3"
      },
      "source": [
        "Finance.sort_values(by=[' Total_Budget_Estimate'],ascending=True).head(3)"
      ],
      "execution_count": 5,
      "outputs": [
        {
          "output_type": "execute_result",
          "data": {
            "text/html": [
              "<div>\n",
              "<style scoped>\n",
              "    .dataframe tbody tr th:only-of-type {\n",
              "        vertical-align: middle;\n",
              "    }\n",
              "\n",
              "    .dataframe tbody tr th {\n",
              "        vertical-align: top;\n",
              "    }\n",
              "\n",
              "    .dataframe thead th {\n",
              "        text-align: right;\n",
              "    }\n",
              "</style>\n",
              "<table border=\"1\" class=\"dataframe\">\n",
              "  <thead>\n",
              "    <tr style=\"text-align: right;\">\n",
              "      <th></th>\n",
              "      <th>Ministry</th>\n",
              "      <th>Total_Budget_Estimate</th>\n",
              "      <th>Total_Loan_Budget</th>\n",
              "      <th>Total_Grant_Budget</th>\n",
              "      <th>Total_Budget_Supported__by_Donors_KES</th>\n",
              "      <th>Total_Project_Cost_KES</th>\n",
              "      <th>OBJECTID</th>\n",
              "    </tr>\n",
              "  </thead>\n",
              "  <tbody>\n",
              "    <tr>\n",
              "      <th>0</th>\n",
              "      <td>ministry of industialization and enterprise d...</td>\n",
              "      <td>0</td>\n",
              "      <td>0</td>\n",
              "      <td>805264000</td>\n",
              "      <td>805264000</td>\n",
              "      <td>26358709656</td>\n",
              "      <td>0</td>\n",
              "    </tr>\n",
              "    <tr>\n",
              "      <th>19</th>\n",
              "      <td>independent electoral and boundaries commission</td>\n",
              "      <td>0</td>\n",
              "      <td>0</td>\n",
              "      <td>0</td>\n",
              "      <td>0</td>\n",
              "      <td>12004537</td>\n",
              "      <td>19</td>\n",
              "    </tr>\n",
              "    <tr>\n",
              "      <th>13</th>\n",
              "      <td>state department for east african affairs</td>\n",
              "      <td>0</td>\n",
              "      <td>0</td>\n",
              "      <td>75000000</td>\n",
              "      <td>75000000</td>\n",
              "      <td>4350000000</td>\n",
              "      <td>13</td>\n",
              "    </tr>\n",
              "  </tbody>\n",
              "</table>\n",
              "</div>"
            ],
            "text/plain": [
              "                                             Ministry  ...  OBJECTID\n",
              "0    ministry of industialization and enterprise d...  ...         0\n",
              "19    independent electoral and boundaries commission  ...        19\n",
              "13          state department for east african affairs  ...        13\n",
              "\n",
              "[3 rows x 7 columns]"
            ]
          },
          "metadata": {
            "tags": []
          },
          "execution_count": 5
        }
      ]
    },
    {
      "cell_type": "markdown",
      "metadata": {
        "id": "6kl6Klo34WYy"
      },
      "source": [
        "Which mode of funding contains the most monetary value \r\n",
        "\r\n",
        "1.   List item\r\n",
        "2.   List item\r\n",
        "\r\n"
      ]
    },
    {
      "cell_type": "code",
      "metadata": {
        "colab": {
          "base_uri": "https://localhost:8080/"
        },
        "id": "znbeQtghjOXx",
        "outputId": "2b089f7f-6071-46ff-aa63-cfcdb081c87d"
      },
      "source": [
        "Total = Finance.apply(lambda x: x.sum())\r\n",
        "print(Total)\r\n",
        "#By observation the money donated by donors contains the most monetary value "
      ],
      "execution_count": 6,
      "outputs": [
        {
          "output_type": "stream",
          "text": [
            "Ministry                                  ministry of industialization and enterprise d...\n",
            " Total_Budget_Estimate                                                         87753743927\n",
            "Total_Loan_Budget                                                             374828343219\n",
            "Total_Grant_Budget                                                            111348673071\n",
            "Total_Budget_Supported__by_Donors_KES                                         486176671965\n",
            "Total_Project_Cost_KES                                                     228201408923978\n",
            "OBJECTID                                                                               276\n",
            "dtype: object\n"
          ],
          "name": "stdout"
        }
      ]
    },
    {
      "cell_type": "markdown",
      "metadata": {
        "id": "NORikR8P4rGv"
      },
      "source": [
        "Which mode of funding is used the least "
      ]
    },
    {
      "cell_type": "code",
      "metadata": {
        "id": "n3aNle1o4xOS",
        "colab": {
          "base_uri": "https://localhost:8080/"
        },
        "outputId": "7502c5e5-07a3-4fe5-9a5c-3d6f85ba9a87"
      },
      "source": [
        "Finance.apply(lambda x: x.min())"
      ],
      "execution_count": 7,
      "outputs": [
        {
          "output_type": "execute_result",
          "data": {
            "text/plain": [
              "Ministry                                  independent electoral and boundaries commission\n",
              " Total_Budget_Estimate                                                                  0\n",
              "Total_Loan_Budget                                                                       0\n",
              "Total_Grant_Budget                                                                      0\n",
              "Total_Budget_Supported__by_Donors_KES                                                   0\n",
              "Total_Project_Cost_KES                                                             350000\n",
              "OBJECTID                                                                                0\n",
              "dtype: object"
            ]
          },
          "metadata": {
            "tags": []
          },
          "execution_count": 7
        }
      ]
    },
    {
      "cell_type": "markdown",
      "metadata": {
        "id": "K1pVD-wV4xW9"
      },
      "source": [
        "What is the most money they give each ministry "
      ]
    },
    {
      "cell_type": "code",
      "metadata": {
        "id": "QGMyrgRI43su",
        "colab": {
          "base_uri": "https://localhost:8080/"
        },
        "outputId": "fa9fc6d6-b332-41a1-c3b7-7737c725de36"
      },
      "source": [
        "Finance.apply(lambda x: x.max())"
      ],
      "execution_count": 8,
      "outputs": [
        {
          "output_type": "execute_result",
          "data": {
            "text/plain": [
              "Ministry                                 state department for interior\n",
              " Total_Budget_Estimate                                     32595417593\n",
              "Total_Loan_Budget                                          99460344325\n",
              "Total_Grant_Budget                                         53725271337\n",
              "Total_Budget_Supported__by_Donors_KES                     100660000000\n",
              "Total_Project_Cost_KES                                 224811000000000\n",
              "OBJECTID                                                            23\n",
              "dtype: object"
            ]
          },
          "metadata": {
            "tags": []
          },
          "execution_count": 8
        }
      ]
    },
    {
      "cell_type": "markdown",
      "metadata": {
        "id": "tN6SOVNy438o"
      },
      "source": [
        "Which ministry is mostly funded by donors "
      ]
    },
    {
      "cell_type": "code",
      "metadata": {
        "id": "zyz0dS_K497Y",
        "colab": {
          "base_uri": "https://localhost:8080/"
        },
        "outputId": "9d1cafc3-2688-4878-d844-33e35cb65f91"
      },
      "source": [
        "Finance['Total_Budget_Supported__by_Donors_KES'].max()\r\n",
        "Finance['Ministry'][Finance['Total_Budget_Supported__by_Donors_KES']==100660000000]"
      ],
      "execution_count": null,
      "outputs": [
        {
          "output_type": "execute_result",
          "data": {
            "text/plain": [
              "21     ministry of energy & petroleum\n",
              "Name: Ministry, dtype: object"
            ]
          },
          "metadata": {
            "tags": []
          },
          "execution_count": 49
        }
      ]
    },
    {
      "cell_type": "markdown",
      "metadata": {
        "id": "C_J0lQ4z4-M4"
      },
      "source": [
        "Which ministry is mostly funded by Grants"
      ]
    },
    {
      "cell_type": "code",
      "metadata": {
        "id": "u-fF1Ct35Q3g",
        "colab": {
          "base_uri": "https://localhost:8080/"
        },
        "outputId": "b38a97c9-bee1-4b02-df34-271ae56d0485"
      },
      "source": [
        "Finance['Total_Grant_Budget'].max()\r\n",
        "Finance['Ministry'][Finance['Total_Grant_Budget']== 53725271337]"
      ],
      "execution_count": 16,
      "outputs": [
        {
          "output_type": "execute_result",
          "data": {
            "text/plain": [
              "14     ministry of health\n",
              "Name: Ministry, dtype: object"
            ]
          },
          "metadata": {
            "tags": []
          },
          "execution_count": 16
        }
      ]
    },
    {
      "cell_type": "markdown",
      "metadata": {
        "id": "vEuAbXFq5RBx"
      },
      "source": [
        "Which ministry is mostly funded by the loan "
      ]
    },
    {
      "cell_type": "code",
      "metadata": {
        "id": "OBczex3l5UMg",
        "colab": {
          "base_uri": "https://localhost:8080/"
        },
        "outputId": "8566a0e2-b259-487a-b743-fd8ca80008fd"
      },
      "source": [
        "Finance['Total_Loan_Budget'].max()\r\n",
        "Finance['Ministry'][Finance['Total_Loan_Budget']==99460344325]"
      ],
      "execution_count": 18,
      "outputs": [
        {
          "output_type": "execute_result",
          "data": {
            "text/plain": [
              "21     ministry of energy & petroleum\n",
              "Name: Ministry, dtype: object"
            ]
          },
          "metadata": {
            "tags": []
          },
          "execution_count": 18
        }
      ]
    },
    {
      "cell_type": "markdown",
      "metadata": {
        "id": "T0q8elbK5sVq"
      },
      "source": [
        "Did the governemnt go under the budget or over the budget "
      ]
    },
    {
      "cell_type": "code",
      "metadata": {
        "id": "guEndCJm6C3Q",
        "colab": {
          "base_uri": "https://localhost:8080/"
        },
        "outputId": "45450431-7746-4abb-f8ae-c32431fce668"
      },
      "source": [
        "Max2 = Finance[' Total_Budget_Estimate'].sum()\r\n",
        "Max3 = Finance['Total_Project_Cost_KES'].sum()\r\n",
        "if Max2 > Max3:\r\n",
        "  SUM = Max3 - Max2\r\n",
        "  print('They spent less than the budget predicted by')\r\n",
        "elif Max2 < Max3:\r\n",
        "  SUM = Max3 - Max2\r\n",
        "  print('They spent over the predictions of the budget by')\r\n",
        "  print(SUM)\r\n",
        "else:\r\n",
        "  print('They spent as the budget required them to')"
      ],
      "execution_count": 14,
      "outputs": [
        {
          "output_type": "stream",
          "text": [
            "They spent over the predictions of the budget by\n",
            "228113655180051\n"
          ],
          "name": "stdout"
        }
      ]
    },
    {
      "cell_type": "markdown",
      "metadata": {
        "id": "cvYC3Kg76DL8"
      },
      "source": [
        "Which ministiries went over budget "
      ]
    },
    {
      "cell_type": "code",
      "metadata": {
        "id": "7HH3WqxD6GTx",
        "colab": {
          "base_uri": "https://localhost:8080/",
          "height": 80
        },
        "outputId": "61331e68-13b3-4a91-f4be-f7e4e57076a4"
      },
      "source": [
        "Finance[Finance['Ministry']==' ministry of energy & petroleum']"
      ],
      "execution_count": 27,
      "outputs": [
        {
          "output_type": "execute_result",
          "data": {
            "text/html": [
              "<div>\n",
              "<style scoped>\n",
              "    .dataframe tbody tr th:only-of-type {\n",
              "        vertical-align: middle;\n",
              "    }\n",
              "\n",
              "    .dataframe tbody tr th {\n",
              "        vertical-align: top;\n",
              "    }\n",
              "\n",
              "    .dataframe thead th {\n",
              "        text-align: right;\n",
              "    }\n",
              "</style>\n",
              "<table border=\"1\" class=\"dataframe\">\n",
              "  <thead>\n",
              "    <tr style=\"text-align: right;\">\n",
              "      <th></th>\n",
              "      <th>Ministry</th>\n",
              "      <th>Total_Budget_Estimate</th>\n",
              "      <th>Total_Loan_Budget</th>\n",
              "      <th>Total_Grant_Budget</th>\n",
              "      <th>Total_Budget_Supported__by_Donors_KES</th>\n",
              "      <th>Total_Project_Cost_KES</th>\n",
              "      <th>OBJECTID</th>\n",
              "    </tr>\n",
              "  </thead>\n",
              "  <tbody>\n",
              "    <tr>\n",
              "      <th>21</th>\n",
              "      <td>ministry of energy &amp; petroleum</td>\n",
              "      <td>8589560000</td>\n",
              "      <td>99460344325</td>\n",
              "      <td>1200000000</td>\n",
              "      <td>100660000000</td>\n",
              "      <td>944715000000</td>\n",
              "      <td>21</td>\n",
              "    </tr>\n",
              "  </tbody>\n",
              "</table>\n",
              "</div>"
            ],
            "text/plain": [
              "                           Ministry  ...  OBJECTID\n",
              "21   ministry of energy & petroleum  ...        21\n",
              "\n",
              "[1 rows x 7 columns]"
            ]
          },
          "metadata": {
            "tags": []
          },
          "execution_count": 27
        }
      ]
    },
    {
      "cell_type": "code",
      "metadata": {
        "colab": {
          "base_uri": "https://localhost:8080/"
        },
        "id": "wzEZuP9i0G0V",
        "outputId": "165ed43a-6dbe-4aab-e410-d1d6f63a595e"
      },
      "source": [
        "def over(x):\r\n",
        "  for x in Finance: \r\n",
        "    if ' Total_Budget_Estimate' > 'Total_Project_Cost_KES':\r\n",
        "      return x\r\n",
        "    else: \r\n",
        "      break\r\n",
        "list(map(over,Finance))"
      ],
      "execution_count": 38,
      "outputs": [
        {
          "output_type": "execute_result",
          "data": {
            "text/plain": [
              "[None, None, None, None, None, None, None]"
            ]
          },
          "metadata": {
            "tags": []
          },
          "execution_count": 38
        }
      ]
    },
    {
      "cell_type": "code",
      "metadata": {
        "id": "tCkXAs6O09nj"
      },
      "source": [
        ""
      ],
      "execution_count": null,
      "outputs": []
    }
  ]
}